{
 "cells": [
  {
   "cell_type": "markdown",
   "metadata": {},
   "source": [
    "# Galaxies\n",
    "\n",
    "### Multiple runs\n",
    "\n",
    "In this notebook we show the memberhip selection perfomance of the copacabana output for different runs"
   ]
  },
  {
   "cell_type": "markdown",
   "metadata": {},
   "source": [
    "### Import Packages"
   ]
  },
  {
   "cell_type": "code",
   "execution_count": 1,
   "metadata": {},
   "outputs": [],
   "source": [
    "from astropy.table import Table, vstack\n",
    "from astropy.io.fits import getdata\n",
    "\n",
    "import pandas as pd\n",
    "\n",
    "import matplotlib\n",
    "import numpy as np\n",
    "\n",
    "from collections import defaultdict\n",
    "from matplotlib import pylab\n",
    "import matplotlib.pyplot as plt\n",
    "\n",
    "from scipy import stats\n",
    "import sklearn\n",
    "\n",
    "import seaborn as sns\n",
    "\n",
    "import os"
   ]
  },
  {
   "cell_type": "code",
   "execution_count": 2,
   "metadata": {},
   "outputs": [
    {
     "data": {
      "image/png": "[encoded data removed]",
      "text/plain": [
       "<Figure size 432x72 with 1 Axes>"
      ]
     },
     "metadata": {},
     "output_type": "display_data"
    }
   ],
   "source": [
    "import seaborn as sns; sns.set(color_codes=True)\n",
    "sns.set_style(\"whitegrid\")\n",
    "sns.palplot(sns.color_palette(\"CMRmap\"))"
   ]
  },
  {
   "cell_type": "code",
   "execution_count": 3,
   "metadata": {},
   "outputs": [],
   "source": [
    "from sklearn.metrics import precision_recall_curve\n",
    "from sklearn.metrics import precision_score, recall_score, f1_score"
   ]
  },
  {
   "cell_type": "markdown",
   "metadata": {},
   "source": [
    "### Loading Data"
   ]
  },
  {
   "cell_type": "code",
   "execution_count": 4,
   "metadata": {},
   "outputs": [
    {
     "name": "stderr",
     "output_type": "stream",
     "text": [
      "/cvmfs/des.opensciencegrid.org/fnal/anaconda2/envs/des18a/lib/python2.7/site-packages/h5py/__init__.py:36: FutureWarning: Conversion of the second argument of issubdtype from `float` to `np.floating` is deprecated. In future, it will be treated as `np.float64 == np.dtype(float).type`.\n",
      "  from ._conv import register_converters as _register_converters\n"
     ]
    },
    {
     "name": "stdout",
     "output_type": "stream",
     "text": [
      "Using Modified sklearn.mixture.GMM, modified to allow data weights\n"
     ]
    }
   ],
   "source": [
    "from plotLibrary import viewMembershipSelection"
   ]
  },
  {
   "cell_type": "code",
   "execution_count": 22,
   "metadata": {},
   "outputs": [],
   "source": [
    "# run = 'g001-r200'\n",
    "# runs= ['g001-r200','g003-r200','g005-r200']\n",
    "\n",
    "runs=['emuBPZ-r200','gauss003-r200','gauss005-r200']\n",
    "# runs=['emuBPZ-rhod','gauss003-rhod','gauss005-rhod']"
   ]
  },
  {
   "cell_type": "code",
   "execution_count": 23,
   "metadata": {},
   "outputs": [],
   "source": [
    "x = np.arange(len(runs))\n",
    "colors = np.array([sns.color_palette(\"CMRmap\")[::2][xx] for xx in x])"
   ]
  },
  {
   "cell_type": "code",
   "execution_count": 24,
   "metadata": {},
   "outputs": [],
   "source": [
    "# vm = viewMembershipSelection(cfg='../config_files/config_buzzard_v2.yaml',dataset='buzzard_v2')\n",
    "vm = viewMembershipSelection(cfg='../config_files/config_copa_dc2.yaml',dataset='cosmoDC2')"
   ]
  },
  {
   "cell_type": "code",
   "execution_count": null,
   "metadata": {},
   "outputs": [],
   "source": [
    "for run in runs:\n",
    "    vm.load_data(run)"
   ]
  },
  {
   "cell_type": "code",
   "execution_count": null,
   "metadata": {},
   "outputs": [],
   "source": [
    "for run in runs:    \n",
    "    vm.compute_precision_recall_curves(run,prob='Pmem',th='True')"
   ]
  },
  {
   "cell_type": "code",
   "execution_count": null,
   "metadata": {},
   "outputs": [],
   "source": [
    "plt.figure(figsize=(10,8))\n",
    "\n",
    "for color,run in zip(colors,runs):\n",
    "    plt.axvline(-1.,color=color,label=run,lw=3)\n",
    "\n",
    "plt.legend(fontsize=14, loc=3, shadow=True, borderaxespad=0.,ncol=len(runs),borderpad=1)\n",
    "\n",
    "for color,run in zip(colors,runs):\n",
    "    vm.plot_precision_recall_vs_threshold(run,c1=color)\n",
    "    #plt.legend()\n",
    "    \n",
    "plt.xlabel(r'Threshold: $P_{mem}$', fontsize=20)\n",
    "plt.ylabel('Fraction', fontsize=20)\n",
    "plt.title('Completeness, Purity',fontsize=20)"
   ]
  },
  {
   "cell_type": "code",
   "execution_count": null,
   "metadata": {},
   "outputs": [],
   "source": [
    "plt.figure(figsize=(10, 8))\n",
    "\n",
    "for color,run in zip(colors,runs):\n",
    "    vm.plot_purity_completeness(run,color=color)\n",
    "    #plt.legend()\n",
    "plt.ylim(0.35,0.95)\n",
    "plt.legend(fontsize=16, loc=3, shadow=True, borderaxespad=0.,borderpad=1)\n",
    "plt.title('Comparing Selection',fontsize=24)\n",
    "\n",
    "plt.xlabel(r'Completeness', fontsize=20)\n",
    "plt.ylabel('Purity', fontsize=20)\n",
    "# plt.title('Completeness, Purity',fontsize=20)"
   ]
  },
  {
   "cell_type": "code",
   "execution_count": null,
   "metadata": {},
   "outputs": [],
   "source": []
  },
  {
   "cell_type": "markdown",
   "metadata": {},
   "source": [
    "### PDF validation\n",
    "\n",
    "Copacabana should in priciple recover the PDF of the true members distribution. Here in the plots below, we check the PDF for the variables $R, z, color$"
   ]
  },
  {
   "cell_type": "code",
   "execution_count": null,
   "metadata": {},
   "outputs": [],
   "source": [
    "def getTruthTable(gal):\n",
    "    gal2 = gal[gal['True']==True].copy()\n",
    "    gal2['Pmem'] = 1.\n",
    "    return gal2"
   ]
  },
  {
   "cell_type": "code",
   "execution_count": null,
   "metadata": {},
   "outputs": [],
   "source": [
    "gal = vm.datasets[runs[1]]\n",
    "gal2= getTruthTable(gal)\n",
    "keys = np.unique(gal['CID'])"
   ]
  },
  {
   "cell_type": "code",
   "execution_count": null,
   "metadata": {},
   "outputs": [],
   "source": [
    "from plotLibrary import generalPlots"
   ]
  },
  {
   "cell_type": "code",
   "execution_count": null,
   "metadata": {},
   "outputs": [],
   "source": [
    "allPlots = generalPlots(title='CosmoDC2')"
   ]
  },
  {
   "cell_type": "code",
   "execution_count": null,
   "metadata": {},
   "outputs": [],
   "source": [
    "allPlots.plot_validation_pdf_redshift(gal,gal2,keys)"
   ]
  },
  {
   "cell_type": "code",
   "execution_count": null,
   "metadata": {},
   "outputs": [],
   "source": [
    "allPlots.plot_validation_pdf_radial(gal,gal2,keys)"
   ]
  },
  {
   "cell_type": "code",
   "execution_count": null,
   "metadata": {},
   "outputs": [],
   "source": [
    "allPlots.plot_grid_histograms(gal)"
   ]
  },
  {
   "cell_type": "code",
   "execution_count": null,
   "metadata": {},
   "outputs": [],
   "source": []
  },
  {
   "cell_type": "code",
   "execution_count": null,
   "metadata": {},
   "outputs": [],
   "source": []
  },
  {
   "cell_type": "code",
   "execution_count": null,
   "metadata": {},
   "outputs": [],
   "source": []
  }
 ],
 "metadata": {
  "kernelspec": {
   "display_name": "Python 2",
   "language": "python",
   "name": "python2"
  },
  "language_info": {
   "codemirror_mode": {
    "name": "ipython",
    "version": 2
   },
   "file_extension": ".py",
   "mimetype": "text/x-python",
   "name": "python",
   "nbconvert_exporter": "python",
   "pygments_lexer": "ipython2",
   "version": "2.7.15"
  }
 },
 "nbformat": 4,
 "nbformat_minor": 2
}
