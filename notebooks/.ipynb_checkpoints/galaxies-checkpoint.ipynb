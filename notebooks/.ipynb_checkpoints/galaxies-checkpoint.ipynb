{
 "cells": [
  {
   "cell_type": "markdown",
   "metadata": {},
   "source": [
    "# Galaxies"
   ]
  },
  {
   "cell_type": "markdown",
   "metadata": {},
   "source": [
    "### Load Galaxy Catalog"
   ]
  },
  {
   "cell_type": "code",
   "execution_count": 6,
   "metadata": {},
   "outputs": [],
   "source": [
    "import sys\n",
    "sys.path.append(\"/home/s1/jesteves/git/ccopa/\")"
   ]
  },
  {
   "cell_type": "code",
   "execution_count": 7,
   "metadata": {},
   "outputs": [
    {
     "name": "stderr",
     "output_type": "stream",
     "text": [
      "/cvmfs/des.opensciencegrid.org/fnal/anaconda2/envs/des18a/lib/python2.7/site-packages/h5py/__init__.py:36: FutureWarning: Conversion of the second argument of issubdtype from `float` to `np.floating` is deprecated. In future, it will be treated as `np.float64 == np.dtype(float).type`.\n",
      "  from ._conv import register_converters as _register_converters\n"
     ]
    }
   ],
   "source": [
    "import numpy as np\n",
    "from libs.main import copacabana\n",
    "from libs.make_input_files.make_input_datasets import make_master_file\n",
    "\n",
    "import h5py\n",
    "import matplotlib.pyplot as plt"
   ]
  },
  {
   "cell_type": "code",
   "execution_count": 8,
   "metadata": {},
   "outputs": [
    {
     "data": {
      "image/png": "[encoded data removed]",
      "text/plain": [
       "<Figure size 432x72 with 1 Axes>"
      ]
     },
     "metadata": {},
     "output_type": "display_data"
    }
   ],
   "source": [
    "import seaborn as sns; sns.set(color_codes=True)\n",
    "sns.set_style(\"whitegrid\")\n",
    "sns.palplot(sns.color_palette(\"CMRmap\"))"
   ]
  },
  {
   "cell_type": "code",
   "execution_count": 9,
   "metadata": {},
   "outputs": [],
   "source": [
    "from astropy.table import Table, vstack, join\n",
    "from astropy.io.fits import getdata"
   ]
  },
  {
   "cell_type": "code",
   "execution_count": 11,
   "metadata": {},
   "outputs": [],
   "source": [
    "cfg = '../libs/config_copa_dc2.yaml'\n",
    "copa = copacabana(cfg)\n",
    "\n",
    "def read_file(run_name,old=False):\n",
    "    if old: run_name += '_old'\n",
    "    gal   = copa.load_copa_out('members',run=run_name)\n",
    "    return gal"
   ]
  },
  {
   "cell_type": "code",
   "execution_count": 13,
   "metadata": {},
   "outputs": [
    {
     "name": "stdout",
     "output_type": "stream",
     "text": [
      "Matching Copa output with main and BMA\n"
     ]
    }
   ],
   "source": [
    "run = 'emuBPZ-rhod-zw'\n",
    "gal = read_file(run)"
   ]
  },
  {
   "cell_type": "code",
   "execution_count": 14,
   "metadata": {},
   "outputs": [],
   "source": [
    "run = 'emuBPZ-rhod-zw'\n",
    "cat   = copa.load_copa_out('cluster',run=run)"
   ]
  },
  {
   "cell_type": "code",
   "execution_count": null,
   "metadata": {},
   "outputs": [
    {
     "name": "stdout",
     "output_type": "stream",
     "text": [
      "Matching Copa output with main and BMA\n"
     ]
    }
   ],
   "source": [
    "gal2 = read_file('emuBPZ-rhod')"
   ]
  },
  {
   "cell_type": "markdown",
   "metadata": {},
   "source": [
    "### Galaxy Selection"
   ]
  },
  {
   "cell_type": "code",
   "execution_count": null,
   "metadata": {},
   "outputs": [],
   "source": [
    "## colors\n",
    "blue = '#2E86C1'\n",
    "gray = '#A6ACAF'"
   ]
  },
  {
   "cell_type": "code",
   "execution_count": null,
   "metadata": {},
   "outputs": [],
   "source": []
  },
  {
   "cell_type": "code",
   "execution_count": null,
   "metadata": {},
   "outputs": [],
   "source": [
    "from sklearn.metrics import precision_recall_curve\n",
    "from sklearn.metrics import precision_score, recall_score, f1_score\n",
    "\n",
    "def plot_precision_recall_vs_threshold(true_members,scores,title='',c1=blue,c2=gray):\n",
    "    precisions, recalls, thresholds = precision_recall_curve(true_members, scores)\n",
    "\n",
    "    ## optimal value\n",
    "    idx = np.argmax(recalls*precisions)\n",
    "\n",
    "    recall_opt_precision = recalls[idx]\n",
    "    precision_opt_precision = precisions[idx]\n",
    "    threshold_opt_precision = thresholds[idx]\n",
    "\n",
    "    print(\"Optimal threshold: %.3f\"%threshold_opt_precision)\n",
    "    print(\"Optimal recall   : %.3f\"%recall_opt_precision)\n",
    "    print(\"Optimal precision: %.3f\"%precision_opt_precision)\n",
    "\n",
    "    _plot_precision_recall_vs_threshold(precisions, recalls, thresholds,c1=c1,c2=c2)\n",
    "    plt.plot([threshold_opt_precision, threshold_opt_precision], [0., recall_opt_precision], \"r:\")\n",
    "    plt.plot([0., threshold_opt_precision], [precision_opt_precision, precision_opt_precision], \"r:\")\n",
    "    plt.plot([0., threshold_opt_precision], [recall_opt_precision, recall_opt_precision], \"r:\")\n",
    "    plt.plot([threshold_opt_precision], [precision_opt_precision], \"ro\")\n",
    "    plt.plot([threshold_opt_precision], [recall_opt_precision], \"ro\",label=\"Optimal value\")\n",
    "    plt.legend(loc=(1.05,0.8),fontsize=18)\n",
    "    \n",
    "    plt.title(\"%s \"%title,fontsize=16)\n",
    "    #plt.show()\n",
    "\n",
    "def _plot_precision_recall_vs_threshold(precisions, recalls, thresholds, c1=blue, c2=gray):\n",
    "    plt.plot(thresholds, precisions[:-1], c1, label=\"Purity\", linewidth=4)\n",
    "    plt.plot(thresholds, recalls[:-1], c2, label=\"Completeness\", linewidth=4)\n",
    "    plt.legend(fontsize=16)\n",
    "    plt.xlabel(r'Threshold: $P_{mem}$', fontsize=20)\n",
    "    plt.grid(True)                      \n",
    "    plt.ylim(0.0,1.)\n",
    "    plt.xlim(-0.01,1.01)\n",
    "    ticks0 = np.arange(0.,1.01,0.1)\n",
    "    plt.xticks(ticks0)\n",
    "    plt.yticks(ticks0)\n",
    "\n"
   ]
  },
  {
   "cell_type": "code",
   "execution_count": null,
   "metadata": {},
   "outputs": [],
   "source": [
    "true_members1 = np.where(gal['True'],1.,0.)\n",
    "scores1      = np.where(np.isnan(gal[\"Pmem\"]),0,gal['Pmem'])\n",
    "# scores = y_scores_forest\n",
    "plt.figure(figsize=(10, 8))\n",
    "plot_precision_recall_vs_threshold(true_members1,scores1,title='Copacabana')"
   ]
  },
  {
   "cell_type": "code",
   "execution_count": null,
   "metadata": {},
   "outputs": [],
   "source": [
    "true_members2 = np.where(gal2['True'],1.,0.)\n",
    "scores2 = np.where(np.isnan(gal2[\"Pmem\"]),0,gal2['Pmem'])\n",
    "# scores = y_scores_forest\n",
    "plt.figure(figsize=(10, 8))\n",
    "plot_precision_recall_vs_threshold(true_members2,scores2,title='Old Memb.')"
   ]
  },
  {
   "cell_type": "code",
   "execution_count": null,
   "metadata": {},
   "outputs": [],
   "source": [
    "from sklearn.metrics import precision_recall_curve\n",
    "from sklearn.metrics import precision_score, recall_score, f1_score\n",
    "\n",
    "def plot_precision_recall(precisions, recalls, color='b', label=None):\n",
    "    plt.plot(recalls[:-1], precisions[:-1], color=color, label=label, linewidth=2)\n",
    "    plt.xlabel(r'Completeness', fontsize=20)\n",
    "    plt.ylabel(r'Purity', fontsize=20)\n",
    "    plt.grid(True)                      \n",
    "    plt.ylim(0.0,1.)\n",
    "    plt.xlim(-0.01,1.01)\n",
    "    ticks0 = np.arange(0.,1.01,0.1)\n",
    "    plt.xticks(ticks0)\n",
    "    plt.yticks(ticks0)\n",
    "    plt.legend(fontsize=18)"
   ]
  },
  {
   "cell_type": "code",
   "execution_count": null,
   "metadata": {},
   "outputs": [],
   "source": [
    "def plot_purity_completeness_curve(scores,true_members,label=None,color='r',save='bla.png'):\n",
    "    # scores = y_scores_forest\n",
    "\n",
    "    precisions, recalls, thresholds = precision_recall_curve(true_members, scores)\n",
    "\n",
    "    ## optimal value\n",
    "    idx = np.argmax(recalls*precisions)\n",
    "    \n",
    "    recall_opt_precision = recalls[idx]\n",
    "    precision_opt_precision = precisions[idx]\n",
    "    threshold_opt_precision = thresholds[idx]\n",
    "    \n",
    "    y_pred_opt = scores>=threshold_opt_precision\n",
    "    \n",
    "    f1score= f1_score(true_members,y_pred_opt)\n",
    "    \n",
    "    print('photo-z: %s'%label)\n",
    "    print(\"Optimal threshold: %.3f\"%threshold_opt_precision)\n",
    "    print(\"Optimal recall   : %.3f\"%recall_opt_precision)\n",
    "    print(\"Optimal precision: %.3f\"%precision_opt_precision)\n",
    "    print(\"Optimal F1 scoere: %.3f\"%f1score)\n",
    "    print('\\n')\n",
    "    \n",
    "    label = \"%s: P=%.2f,  C=%.2f\"%(label,precision_opt_precision,recall_opt_precision)\n",
    "    plot_precision_recall(precisions, recalls,color=color,label=label)\n",
    "    plt.plot([recall_opt_precision, recall_opt_precision], [0., precision_opt_precision], \"k:\")\n",
    "    plt.plot([0., recall_opt_precision], [precision_opt_precision, precision_opt_precision], \"k:\")\n",
    "    plt.plot([recall_opt_precision], [precision_opt_precision], 'ro')\n",
    "#     plt.legend(fontsize=20)\n",
    "    # plt.title(\"Precision, Recall vs Threshold\",fontsize=16)\n",
    "    \n",
    "    plt.savefig(save)\n",
    "#     plt.show()"
   ]
  },
  {
   "cell_type": "code",
   "execution_count": null,
   "metadata": {},
   "outputs": [],
   "source": [
    "scores = [scores2,scores1]\n",
    "labels = [true_members2,true_members1]"
   ]
  },
  {
   "cell_type": "code",
   "execution_count": null,
   "metadata": {},
   "outputs": [],
   "source": [
    "plt.figure(figsize=(10, 8))\n",
    "\n",
    "red = '#A93226'\n",
    "colors= [red,blue]\n",
    "label = [r'Old membAssignment: $\\sigma_0 = 0.03$',r'Copacabana: $\\sigma_0 = 0.03$']\n",
    "data  = [gal2,gal]\n",
    "\n",
    "for i in range(2):\n",
    "    plot_purity_completeness_curve(scores[i],labels[i],label=label[i],color=colors[i],save='fig_4l_pc_photozs.png')\n",
    "\n",
    "plt.title('Comparing Selection',fontsize=24)\n",
    "plt.savefig('fig_comparing_PC_oldMemb_Copa.png')"
   ]
  },
  {
   "cell_type": "code",
   "execution_count": null,
   "metadata": {},
   "outputs": [],
   "source": []
  },
  {
   "cell_type": "code",
   "execution_count": null,
   "metadata": {},
   "outputs": [],
   "source": []
  },
  {
   "cell_type": "code",
   "execution_count": null,
   "metadata": {},
   "outputs": [],
   "source": [
    "def plot_histograms(galaxies,prob,axs,xlabel=r'$P_{r}$'):\n",
    "    mask = galaxies['True'] == True\n",
    "    nmask = galaxies['True'] == False\n",
    "\n",
    "    xbins = np.linspace(0.,1.,11)\n",
    "    \n",
    "    # axis.hist(prob,bins=xbins,ec='blue', fc='none', lw=1.5, histtype='step',label='All')\n",
    "    axs.hist(prob[mask],bins=xbins,ec='red', fc='none', lw=1.5, histtype='step',label='True members')\n",
    "    axs.hist(prob[nmask],bins=xbins,ec='gray', fc='none', lw=1.5, histtype='step',label='Non members')\n",
    "    \n",
    "    axs.set_xlabel(r'$P_{%s}$'%xlabel[1:],fontsize=16)\n",
    "    axs.set_ylabel('N')\n",
    "\n",
    "def plot_single_histogram(galaxies,prob,lcol,title='Buzzard v1.6'):\n",
    "        \n",
    "    fig, ax = plt.subplots(figsize=(6,6))\n",
    "    plot_histograms(galaxies,prob,ax,xlabel=lcol)\n",
    "    plt.legend(loc='upper left',fontsize=12)\n",
    "    fig.suptitle(title,fontsize=16)\n",
    "    \n",
    "def plot_grid_histograms(galaxies,title='Buzzard v1.6'):\n",
    "    fig, axis = plt.subplots(2, 2, figsize=(8,8), sharex='col', sharey='all')\n",
    "\n",
    "    labels = [['Pr','Pz'],['Pc','Pmem']]\n",
    "    for i in range(2):\n",
    "        for j in range(2):\n",
    "            prob = galaxies[labels[i][j]]\n",
    "            prob[np.isnan(prob)] = 0.\n",
    "            plot_histograms(galaxies,prob,axis[i,j],xlabel=labels[i][j])\n",
    "\n",
    "            if i ==0 and j==0: axis[0,0].legend(loc='upper left',fontsize=12)\n",
    "    \n",
    "    axis[0,0].set_xlim(-0.01,1.01)\n",
    "    axis[0,1].set_xlim(-0.01,1.01)\n",
    "    fig.suptitle(title,fontsize=16)\n",
    "    fig.tight_layout()"
   ]
  },
  {
   "cell_type": "code",
   "execution_count": null,
   "metadata": {},
   "outputs": [],
   "source": [
    "plot_grid_histograms(gal,title=None)\n",
    "plt.savefig('fig_4e_prob_hist.png')"
   ]
  },
  {
   "cell_type": "code",
   "execution_count": null,
   "metadata": {},
   "outputs": [],
   "source": [
    "plot_grid_histograms(gal2,title=None)\n",
    "#plt.savefig('fig_4e_prob_hist.png')"
   ]
  },
  {
   "cell_type": "code",
   "execution_count": null,
   "metadata": {},
   "outputs": [],
   "source": []
  },
  {
   "cell_type": "markdown",
   "metadata": {},
   "source": [
    "### Mag Evolution"
   ]
  },
  {
   "cell_type": "code",
   "execution_count": null,
   "metadata": {},
   "outputs": [],
   "source": [
    "amag = gal['Mr']\n",
    "mag  = gal['mag']\n",
    "\n",
    "mass = gal['stellar_mass']"
   ]
  },
  {
   "cell_type": "code",
   "execution_count": null,
   "metadata": {},
   "outputs": [],
   "source": []
  },
  {
   "cell_type": "code",
   "execution_count": null,
   "metadata": {},
   "outputs": [],
   "source": [
    "plt."
   ]
  }
 ],
 "metadata": {
  "kernelspec": {
   "display_name": "Python 2",
   "language": "python",
   "name": "python2"
  },
  "language_info": {
   "codemirror_mode": {
    "name": "ipython",
    "version": 2
   },
   "file_extension": ".py",
   "mimetype": "text/x-python",
   "name": "python",
   "nbconvert_exporter": "python",
   "pygments_lexer": "ipython2",
   "version": "2.7.15"
  }
 },
 "nbformat": 4,
 "nbformat_minor": 2
}
