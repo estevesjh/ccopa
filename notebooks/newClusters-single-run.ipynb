{
 "cells": [
  {
   "cell_type": "markdown",
   "metadata": {},
   "source": [
    "# Cluster Results\n",
    "### Single run\n",
    "\n",
    "In this notebook we show the results of the cluster estimations for a given Copacabana run."
   ]
  },
  {
   "cell_type": "markdown",
   "metadata": {},
   "source": [
    "### Importing Packages"
   ]
  },
  {
   "cell_type": "code",
   "execution_count": 1,
   "metadata": {},
   "outputs": [],
   "source": [
    "from astropy.table import Table, vstack\n",
    "from astropy.io.fits import getdata\n",
    "\n",
    "import pandas as pd\n",
    "\n",
    "import matplotlib\n",
    "import numpy as np\n",
    "\n",
    "from collections import defaultdict\n",
    "from matplotlib import pylab\n",
    "import matplotlib.pyplot as plt\n",
    "\n",
    "from scipy import stats\n",
    "import sklearn\n",
    "\n",
    "import scipy.stats as st"
   ]
  },
  {
   "cell_type": "code",
   "execution_count": null,
   "metadata": {},
   "outputs": [],
   "source": []
  },
  {
   "cell_type": "markdown",
   "metadata": {},
   "source": [
    "### Loading Data"
   ]
  },
  {
   "cell_type": "code",
   "execution_count": 6,
   "metadata": {},
   "outputs": [],
   "source": [
    "## the run we take a look into is:\n",
    "\n",
    "run = 'g001-rhod'\n",
    "run2= 'g003-rhod'"
   ]
  },
  {
   "cell_type": "code",
   "execution_count": 7,
   "metadata": {},
   "outputs": [
    {
     "name": "stdout",
     "output_type": "stream",
     "text": [
      "master file: \n",
      " /data/des61.a/data/johnny/Buzzard/Buzzard_v2.0.0/output/tiles/buzzard_v2.0.0_copa_golden_00001.hdf5\n",
      "/data/des61.a/data/johnny/Buzzard/Buzzard_v2.0.0/output/tiles/buzzard_v2.0.0_copa_golden_00002.hdf5\n",
      "/data/des61.a/data/johnny/Buzzard/Buzzard_v2.0.0/output/tiles/buzzard_v2.0.0_copa_golden_00003.hdf5\n",
      "outdir: /data/des61.a/data/johnny/Buzzard/Buzzard_v2.0.0/output/\n",
      "tile path: /data/des61.a/data/johnny/Buzzard/Buzzard_v2.0.0/output/tiles\n"
     ]
    },
    {
     "name": "stderr",
     "output_type": "stream",
     "text": [
      "/cvmfs/des.opensciencegrid.org/fnal/anaconda2/envs/des18a/lib/python2.7/site-packages/ipykernel_launcher.py:313: RuntimeWarning: divide by zero encountered in log10\n"
     ]
    }
   ],
   "source": [
    "vc = viewClusters()\n",
    "vc.load_data(run)\n",
    "vc.load_data(run2)"
   ]
  },
  {
   "cell_type": "markdown",
   "metadata": {},
   "source": [
    "### Residuals and Metrics"
   ]
  },
  {
   "cell_type": "code",
   "execution_count": 8,
   "metadata": {},
   "outputs": [
    {
     "name": "stderr",
     "output_type": "stream",
     "text": [
      "/cvmfs/des.opensciencegrid.org/fnal/anaconda2/envs/des18a/lib/python2.7/site-packages/ipykernel_launcher.py:313: RuntimeWarning: divide by zero encountered in log10\n"
     ]
    }
   ],
   "source": [
    "vc.compute_residuals(run)\n",
    "vc.compute_residuals(run2)"
   ]
  },
  {
   "cell_type": "code",
   "execution_count": 18,
   "metadata": {},
   "outputs": [
    {
     "name": "stdout",
     "output_type": "stream",
     "text": [
      "scatter_percentile\n",
      "bias\n",
      "scatter_stdev\n",
      "scatter_nmad\n",
      "outlier_frac\n",
      "scatter_percentile\n",
      "bias\n",
      "scatter_stdev\n",
      "scatter_nmad\n",
      "outlier_frac\n"
     ]
    },
    {
     "name": "stderr",
     "output_type": "stream",
     "text": [
      "/cvmfs/des.opensciencegrid.org/fnal/anaconda2/envs/des18a/lib/python2.7/site-packages/ipykernel_launcher.py:313: RuntimeWarning: divide by zero encountered in log10\n",
      "/cvmfs/des.opensciencegrid.org/fnal/anaconda2/envs/des18a/lib/python2.7/site-packages/ipykernel_launcher.py:313: RuntimeWarning: invalid value encountered in log10\n"
     ]
    }
   ],
   "source": [
    "vc.eval_all_metrics(run)\n",
    "vc.eval_all_metrics(run2)"
   ]
  },
  {
   "cell_type": "code",
   "execution_count": 10,
   "metadata": {},
   "outputs": [],
   "source": [
    "heading_properties = [('font-size', '16px')]\n",
    "cell_properties = [('font-size', '16px')]\n",
    "dfstyle = [dict(selector=\"th\", props=heading_properties),\\\n",
    " dict(selector=\"td\", props=cell_properties)]\n",
    "\n",
    "#df.style.set_table_styles(dfstyle)"
   ]
  },
  {
   "cell_type": "markdown",
   "metadata": {},
   "source": [
    "### Summary Statistics for the whole sample\n",
    "\n",
    "Here we compute some statiscial properties of the ratio $= x/x_{true}$ where x ={$N_{gals},\\mu_{\\star},R_{200}$}"
   ]
  },
  {
   "cell_type": "code",
   "execution_count": 11,
   "metadata": {},
   "outputs": [
    {
     "name": "stdout",
     "output_type": "stream",
     "text": [
      "Statistics for the whole sample\n"
     ]
    },
    {
     "data": {
      "text/html": [
       "<style  type=\"text/css\" >\n",
       "    #T_a97555b0_c41f_11eb_aafc_bb16765b880e th {\n",
       "          font-size: 16px;\n",
       "    }    #T_a97555b0_c41f_11eb_aafc_bb16765b880e td {\n",
       "          font-size: 16px;\n",
       "    }</style>  \n",
       "<table id=\"T_a97555b0_c41f_11eb_aafc_bb16765b880e\" > \n",
       "<thead>    <tr> \n",
       "        <th class=\"blank level0\" ></th> \n",
       "        <th class=\"col_heading level0 col0\" >bias</th> \n",
       "        <th class=\"col_heading level0 col1\" >outlier_frac</th> \n",
       "        <th class=\"col_heading level0 col2\" >scatter_nmad</th> \n",
       "        <th class=\"col_heading level0 col3\" >scatter_percentile</th> \n",
       "        <th class=\"col_heading level0 col4\" >scatter_stdev</th> \n",
       "    </tr></thead> \n",
       "<tbody>    <tr> \n",
       "        <th id=\"T_a97555b0_c41f_11eb_aafc_bb16765b880elevel0_row0\" class=\"row_heading level0 row0\" >Ngals</th> \n",
       "        <td id=\"T_a97555b0_c41f_11eb_aafc_bb16765b880erow0_col0\" class=\"data row0 col0\" >-0.0359401</td> \n",
       "        <td id=\"T_a97555b0_c41f_11eb_aafc_bb16765b880erow0_col1\" class=\"data row0 col1\" >0.0265957</td> \n",
       "        <td id=\"T_a97555b0_c41f_11eb_aafc_bb16765b880erow0_col2\" class=\"data row0 col2\" >0.406453</td> \n",
       "        <td id=\"T_a97555b0_c41f_11eb_aafc_bb16765b880erow0_col3\" class=\"data row0 col3\" >0.508041</td> \n",
       "        <td id=\"T_a97555b0_c41f_11eb_aafc_bb16765b880erow0_col4\" class=\"data row0 col4\" >0.520072</td> \n",
       "    </tr>    <tr> \n",
       "        <th id=\"T_a97555b0_c41f_11eb_aafc_bb16765b880elevel0_row1\" class=\"row_heading level0 row1\" >MU</th> \n",
       "        <td id=\"T_a97555b0_c41f_11eb_aafc_bb16765b880erow1_col0\" class=\"data row1 col0\" >-0.0662572</td> \n",
       "        <td id=\"T_a97555b0_c41f_11eb_aafc_bb16765b880erow1_col1\" class=\"data row1 col1\" >0.0957447</td> \n",
       "        <td id=\"T_a97555b0_c41f_11eb_aafc_bb16765b880erow1_col2\" class=\"data row1 col2\" >0.209048</td> \n",
       "        <td id=\"T_a97555b0_c41f_11eb_aafc_bb16765b880erow1_col3\" class=\"data row1 col3\" >0.297479</td> \n",
       "        <td id=\"T_a97555b0_c41f_11eb_aafc_bb16765b880erow1_col4\" class=\"data row1 col4\" >0.397079</td> \n",
       "    </tr>    <tr> \n",
       "        <th id=\"T_a97555b0_c41f_11eb_aafc_bb16765b880elevel0_row2\" class=\"row_heading level0 row2\" >R200</th> \n",
       "        <td id=\"T_a97555b0_c41f_11eb_aafc_bb16765b880erow2_col0\" class=\"data row2 col0\" >-0.17404</td> \n",
       "        <td id=\"T_a97555b0_c41f_11eb_aafc_bb16765b880erow2_col1\" class=\"data row2 col1\" >0</td> \n",
       "        <td id=\"T_a97555b0_c41f_11eb_aafc_bb16765b880erow2_col2\" class=\"data row2 col2\" >0.310704</td> \n",
       "        <td id=\"T_a97555b0_c41f_11eb_aafc_bb16765b880erow2_col3\" class=\"data row2 col3\" >0.324694</td> \n",
       "        <td id=\"T_a97555b0_c41f_11eb_aafc_bb16765b880erow2_col4\" class=\"data row2 col4\" >0.477695</td> \n",
       "    </tr></tbody> \n",
       "</table> "
      ],
      "text/plain": [
       "<pandas.io.formats.style.Styler at 0x7fb2e2224210>"
      ]
     },
     "execution_count": 11,
     "metadata": {},
     "output_type": "execute_result"
    }
   ],
   "source": [
    "stats_all = vc.show_metrics_table_all(run)\n",
    "print('Statistics for the whole sample')\n",
    "stats_all.style.set_table_styles(dfstyle)"
   ]
  },
  {
   "cell_type": "code",
   "execution_count": null,
   "metadata": {},
   "outputs": [],
   "source": []
  },
  {
   "cell_type": "code",
   "execution_count": 12,
   "metadata": {},
   "outputs": [
    {
     "name": "stdout",
     "output_type": "stream",
     "text": [
      "Ngals results\n"
     ]
    },
    {
     "data": {
      "text/plain": [
       "bias                 -0.0359401\n",
       "outlier_frac          0.0265957\n",
       "scatter_nmad           0.406453\n",
       "scatter_percentile     0.508041\n",
       "scatter_stdev          0.520072\n",
       "Name: Ngals, dtype: object"
      ]
     },
     "execution_count": 12,
     "metadata": {},
     "output_type": "execute_result"
    }
   ],
   "source": [
    "print('Ngals results')\n",
    "stats_all.loc['Ngals',:]"
   ]
  },
  {
   "cell_type": "code",
   "execution_count": 13,
   "metadata": {},
   "outputs": [
    {
     "name": "stdout",
     "output_type": "stream",
     "text": [
      "MU results\n"
     ]
    },
    {
     "data": {
      "text/plain": [
       "bias                 -0.0662572\n",
       "outlier_frac          0.0957447\n",
       "scatter_nmad           0.209048\n",
       "scatter_percentile     0.297479\n",
       "scatter_stdev          0.397079\n",
       "Name: MU, dtype: object"
      ]
     },
     "execution_count": 13,
     "metadata": {},
     "output_type": "execute_result"
    }
   ],
   "source": [
    "print('MU results')\n",
    "stats_all.loc['MU',:]"
   ]
  },
  {
   "cell_type": "code",
   "execution_count": null,
   "metadata": {},
   "outputs": [],
   "source": []
  },
  {
   "cell_type": "code",
   "execution_count": 14,
   "metadata": {},
   "outputs": [],
   "source": [
    "myperc = np.array([0.,10,15,30,45,60,75,85,92,100])\n",
    "mycols = ['Ngals_true','MU_TRUE','R200_true','redshift','M200_true']\n",
    "mybins = []\n",
    "for cols in mycols:\n",
    "    mybins.append(np.nanpercentile(vc.models[run]['aux_vars'][cols],myperc))"
   ]
  },
  {
   "cell_type": "code",
   "execution_count": 15,
   "metadata": {},
   "outputs": [
    {
     "name": "stderr",
     "output_type": "stream",
     "text": [
      "/cvmfs/des.opensciencegrid.org/fnal/anaconda2/envs/des18a/lib/python2.7/site-packages/ipykernel_launcher.py:313: RuntimeWarning: divide by zero encountered in log10\n",
      "/cvmfs/des.opensciencegrid.org/fnal/anaconda2/envs/des18a/lib/python2.7/site-packages/ipykernel_launcher.py:313: RuntimeWarning: invalid value encountered in log10\n"
     ]
    }
   ],
   "source": [
    "vc.make_bins(*mybins)\n",
    "vc.compute_bin_statstics(run)\n",
    "# vc.compute_bin_statstics(run2)\n",
    "vc.eval_all_metrics(run,binned=True)\n",
    "# vc.eval_all_metrics(run2,binned=True)"
   ]
  },
  {
   "cell_type": "markdown",
   "metadata": {},
   "source": [
    "### Residuals Distribution"
   ]
  },
  {
   "cell_type": "markdown",
   "metadata": {},
   "source": [
    "Residuals"
   ]
  },
  {
   "cell_type": "code",
   "execution_count": 16,
   "metadata": {},
   "outputs": [
    {
     "ename": "KeyError",
     "evalue": "'Ngals'",
     "output_type": "error",
     "traceback": [
      "\u001b[0;31m---------------------------------------------------------------------------\u001b[0m",
      "\u001b[0;31mKeyError\u001b[0m                                  Traceback (most recent call last)",
      "\u001b[0;32m<ipython-input-16-c068b88e0da8>\u001b[0m in \u001b[0;36m<module>\u001b[0;34m()\u001b[0m\n\u001b[1;32m      2\u001b[0m \u001b[0mfig\u001b[0m\u001b[0;34m.\u001b[0m\u001b[0msubplots_adjust\u001b[0m\u001b[0;34m(\u001b[0m\u001b[0mhspace\u001b[0m\u001b[0;34m=\u001b[0m\u001b[0;36m0.25\u001b[0m\u001b[0;34m,\u001b[0m\u001b[0mwspace\u001b[0m\u001b[0;34m=\u001b[0m\u001b[0;36m0.05\u001b[0m\u001b[0;34m)\u001b[0m\u001b[0;34m\u001b[0m\u001b[0m\n\u001b[1;32m      3\u001b[0m \u001b[0;32mfor\u001b[0m \u001b[0mi\u001b[0m \u001b[0;32min\u001b[0m \u001b[0mrange\u001b[0m\u001b[0;34m(\u001b[0m\u001b[0;36m3\u001b[0m\u001b[0;34m)\u001b[0m\u001b[0;34m:\u001b[0m\u001b[0;34m\u001b[0m\u001b[0m\n\u001b[0;32m----> 4\u001b[0;31m     \u001b[0mvc\u001b[0m\u001b[0;34m.\u001b[0m\u001b[0mplot_residual_distribution\u001b[0m\u001b[0;34m(\u001b[0m\u001b[0mrun\u001b[0m\u001b[0;34m,\u001b[0m\u001b[0mvc\u001b[0m\u001b[0;34m.\u001b[0m\u001b[0mpredictors\u001b[0m\u001b[0;34m[\u001b[0m\u001b[0mi\u001b[0m\u001b[0;34m]\u001b[0m\u001b[0;34m,\u001b[0m\u001b[0maxs\u001b[0m\u001b[0;34m=\u001b[0m\u001b[0maxs\u001b[0m\u001b[0;34m[\u001b[0m\u001b[0mi\u001b[0m\u001b[0;34m]\u001b[0m\u001b[0;34m,\u001b[0m\u001b[0mlog_residual\u001b[0m\u001b[0;34m=\u001b[0m\u001b[0mFalse\u001b[0m\u001b[0;34m,\u001b[0m\u001b[0mxlims\u001b[0m\u001b[0;34m=\u001b[0m\u001b[0;34m(\u001b[0m\u001b[0;36m0.3\u001b[0m\u001b[0;34m,\u001b[0m\u001b[0;36m3.\u001b[0m\u001b[0;34m)\u001b[0m\u001b[0;34m)\u001b[0m\u001b[0;34m\u001b[0m\u001b[0m\n\u001b[0m",
      "\u001b[0;32m<ipython-input-4-3dd4da1193d5>\u001b[0m in \u001b[0;36mplot_residual_distribution\u001b[0;34m(self, run, ycol, axs, xlims, log_residual)\u001b[0m\n\u001b[1;32m    202\u001b[0m             \u001b[0munits\u001b[0m    \u001b[0;34m=\u001b[0m \u001b[0;34m'dex\\n'\u001b[0m\u001b[0;34m\u001b[0m\u001b[0m\n\u001b[1;32m    203\u001b[0m \u001b[0;34m\u001b[0m\u001b[0m\n\u001b[0;32m--> 204\u001b[0;31m         \u001b[0mbias\u001b[0m\u001b[0;34m,\u001b[0m\u001b[0msigma\u001b[0m\u001b[0;34m,\u001b[0m\u001b[0msigma_nmad\u001b[0m\u001b[0;34m,\u001b[0m\u001b[0mof\u001b[0m \u001b[0;34m=\u001b[0m \u001b[0mself\u001b[0m\u001b[0;34m.\u001b[0m\u001b[0mget_residual_metrics\u001b[0m\u001b[0;34m(\u001b[0m\u001b[0mrun\u001b[0m\u001b[0;34m,\u001b[0m\u001b[0mycol\u001b[0m\u001b[0;34m,\u001b[0m\u001b[0mlog_residual\u001b[0m\u001b[0;34m=\u001b[0m\u001b[0mlog_residual\u001b[0m\u001b[0;34m)\u001b[0m\u001b[0;34m\u001b[0m\u001b[0m\n\u001b[0m\u001b[1;32m    205\u001b[0m         \u001b[0mxmin\u001b[0m\u001b[0;34m,\u001b[0m\u001b[0mxmax\u001b[0m   \u001b[0;34m=\u001b[0m \u001b[0mnp\u001b[0m\u001b[0;34m.\u001b[0m\u001b[0mnanpercentile\u001b[0m\u001b[0;34m(\u001b[0m\u001b[0mresidual\u001b[0m\u001b[0;34m[\u001b[0m\u001b[0mresidual\u001b[0m\u001b[0;34m>\u001b[0m\u001b[0;34m-\u001b[0m\u001b[0;36m99\u001b[0m\u001b[0;34m]\u001b[0m\u001b[0;34m,\u001b[0m\u001b[0;34m[\u001b[0m\u001b[0;36m0\u001b[0m\u001b[0;34m,\u001b[0m\u001b[0;36m100\u001b[0m\u001b[0;34m]\u001b[0m\u001b[0;34m)\u001b[0m\u001b[0;34m\u001b[0m\u001b[0m\n\u001b[1;32m    206\u001b[0m         \u001b[0mxlo\u001b[0m\u001b[0;34m,\u001b[0m\u001b[0mxup\u001b[0m     \u001b[0;34m=\u001b[0m \u001b[0mbias\u001b[0m\u001b[0;34m-\u001b[0m\u001b[0;36m2\u001b[0m\u001b[0;34m*\u001b[0m\u001b[0msigma_nmad\u001b[0m\u001b[0;34m,\u001b[0m \u001b[0mbias\u001b[0m\u001b[0;34m+\u001b[0m\u001b[0;36m2\u001b[0m\u001b[0;34m*\u001b[0m\u001b[0msigma_nmad\u001b[0m\u001b[0;34m\u001b[0m\u001b[0m\n",
      "\u001b[0;32m<ipython-input-4-3dd4da1193d5>\u001b[0m in \u001b[0;36mget_residual_metrics\u001b[0;34m(self, run, ycol, log_residual)\u001b[0m\n\u001b[1;32m    168\u001b[0m \u001b[0;34m\u001b[0m\u001b[0m\n\u001b[1;32m    169\u001b[0m     \u001b[0;32mdef\u001b[0m \u001b[0mget_residual_metrics\u001b[0m\u001b[0;34m(\u001b[0m\u001b[0mself\u001b[0m\u001b[0;34m,\u001b[0m\u001b[0mrun\u001b[0m\u001b[0;34m,\u001b[0m\u001b[0mycol\u001b[0m\u001b[0;34m,\u001b[0m\u001b[0mlog_residual\u001b[0m\u001b[0;34m=\u001b[0m\u001b[0mFalse\u001b[0m\u001b[0;34m)\u001b[0m\u001b[0;34m:\u001b[0m\u001b[0;34m\u001b[0m\u001b[0m\n\u001b[0;32m--> 170\u001b[0;31m         \u001b[0mbias\u001b[0m \u001b[0;34m=\u001b[0m \u001b[0mself\u001b[0m\u001b[0;34m.\u001b[0m\u001b[0mmetrics\u001b[0m\u001b[0;34m[\u001b[0m\u001b[0mrun\u001b[0m\u001b[0;34m]\u001b[0m\u001b[0;34m[\u001b[0m\u001b[0;34m'bias'\u001b[0m\u001b[0;34m]\u001b[0m\u001b[0;34m[\u001b[0m\u001b[0mycol\u001b[0m\u001b[0;34m]\u001b[0m\u001b[0;34m+\u001b[0m\u001b[0;36m1\u001b[0m\u001b[0;34m\u001b[0m\u001b[0m\n\u001b[0m\u001b[1;32m    171\u001b[0m         \u001b[0msigma\u001b[0m\u001b[0;34m=\u001b[0m \u001b[0mself\u001b[0m\u001b[0;34m.\u001b[0m\u001b[0mmetrics\u001b[0m\u001b[0;34m[\u001b[0m\u001b[0mrun\u001b[0m\u001b[0;34m]\u001b[0m\u001b[0;34m[\u001b[0m\u001b[0;34m'scatter_percentile'\u001b[0m\u001b[0;34m]\u001b[0m\u001b[0;34m[\u001b[0m\u001b[0mycol\u001b[0m\u001b[0;34m]\u001b[0m\u001b[0;34m\u001b[0m\u001b[0m\n\u001b[1;32m    172\u001b[0m         \u001b[0msigma_nmad\u001b[0m \u001b[0;34m=\u001b[0m \u001b[0mself\u001b[0m\u001b[0;34m.\u001b[0m\u001b[0mmetrics\u001b[0m\u001b[0;34m[\u001b[0m\u001b[0mrun\u001b[0m\u001b[0;34m]\u001b[0m\u001b[0;34m[\u001b[0m\u001b[0;34m'scatter_nmad'\u001b[0m\u001b[0;34m]\u001b[0m\u001b[0;34m[\u001b[0m\u001b[0mycol\u001b[0m\u001b[0;34m]\u001b[0m\u001b[0;34m\u001b[0m\u001b[0m\n",
      "\u001b[0;31mKeyError\u001b[0m: 'Ngals'"
     ]
    },
    {
     "data": {
      "image/png": "[encoded data removed]",
      "text/plain": [
       "<Figure size 1008x288 with 3 Axes>"
      ]
     },
     "metadata": {},
     "output_type": "display_data"
    }
   ],
   "source": [
    "fig, axs = plt.subplots(1, 3, sharey='all', figsize=(14,4))\n",
    "fig.subplots_adjust(hspace=0.25,wspace=0.05)\n",
    "for i in range(3):\n",
    "    vc.plot_residual_distribution(run,vc.predictors[i],axs=axs[i],log_residual=False,xlims=(0.3,3.))"
   ]
  },
  {
   "cell_type": "code",
   "execution_count": null,
   "metadata": {},
   "outputs": [],
   "source": []
  },
  {
   "cell_type": "markdown",
   "metadata": {},
   "source": [
    "Log Residual"
   ]
  },
  {
   "cell_type": "code",
   "execution_count": null,
   "metadata": {},
   "outputs": [],
   "source": [
    "fig, axs = plt.subplots(1, 3, sharey='all', figsize=(14,4))\n",
    "fig.subplots_adjust(hspace=0.25,wspace=0.05)\n",
    "for i in range(3):\n",
    "    vc.plot_residual_distribution(run,vc.predictors[i],axs=axs[i],log_residual=True,xlims=(-0.4,.7))"
   ]
  },
  {
   "cell_type": "code",
   "execution_count": null,
   "metadata": {},
   "outputs": [],
   "source": []
  },
  {
   "cell_type": "code",
   "execution_count": null,
   "metadata": {},
   "outputs": [],
   "source": []
  },
  {
   "cell_type": "code",
   "execution_count": null,
   "metadata": {},
   "outputs": [],
   "source": [
    "fig, axs = plt.subplots(1, 3, figsize=(14,4))\n",
    "fig.subplots_adjust(hspace=0.25,wspace=0.3)\n",
    "\n",
    "vc.plot_scaling_relation(vc.regressors[0],vc.predictors[0],run,points=True,axs=axs[0])\n",
    "vc.plot_scaling_relation(vc.regressors[1],vc.predictors[1],run,points=True,axs=axs[1])\n",
    "vc.plot_scaling_relation(vc.regressors[2],vc.predictors[2],run,points=True,axs=axs[2],log_scale=False)"
   ]
  },
  {
   "cell_type": "markdown",
   "metadata": {},
   "source": [
    "### Binned Residuals\n",
    "\n",
    "Our results for instance can be dependent on redshift, cluster mass or richness. In order to check, in this section we split the sample in bins of this quantities and we take a look into the residuals."
   ]
  },
  {
   "cell_type": "code",
   "execution_count": null,
   "metadata": {},
   "outputs": [],
   "source": [
    "ycol='MU'\n",
    "xcol='M200_true'"
   ]
  },
  {
   "cell_type": "code",
   "execution_count": null,
   "metadata": {},
   "outputs": [],
   "source": [
    "fig, axs = plt.subplots(3, 1, sharey='col', figsize=(10,14))\n",
    "fig.subplots_adjust(hspace=0.4,wspace=0.4)\n",
    "\n",
    "vc.plot_residual(run,'redshift',ycol,ax=axs[0],xlog=False,color='r',points=False)\n",
    "# vc.plot_residual(run2,'redshift',ycol,ax=axs[0],xlog=False,color='b',points=False,shift=0.01)\n",
    "vc.plot_residual(run,'M200_true',ycol,ax=axs[1],xlog=True,color='r',points=False,units=r'  [$M_{\\odot}\\, h^{-1}$]')\n",
    "vc.plot_residual(run,'Ngals_true',ycol,ax=axs[2],xlog=True,color='r',points=False)"
   ]
  },
  {
   "cell_type": "code",
   "execution_count": null,
   "metadata": {},
   "outputs": [],
   "source": [
    "ycol='Ngals'"
   ]
  },
  {
   "cell_type": "code",
   "execution_count": null,
   "metadata": {},
   "outputs": [],
   "source": [
    "fig, axs = plt.subplots(3, 1, sharey='col', figsize=(10,14))\n",
    "fig.subplots_adjust(hspace=0.4,wspace=0.4)\n",
    "\n",
    "vc.plot_residual(run,'redshift',ycol,ax=axs[0],xlog=False,color='r',points=False)\n",
    "# vc.plot_residual(run2,'redshift',ycol,ax=axs[0],xlog=False,color='b',points=False,shift=0.01)\n",
    "vc.plot_residual(run,'M200_true',ycol,ax=axs[1],xlog=True,color='r',points=False,units=r'  [$M_{\\odot}\\, h^{-1}$]')\n",
    "vc.plot_residual(run,'Ngals_true',ycol,ax=axs[2],xlog=True,color='r',points=False)"
   ]
  },
  {
   "cell_type": "code",
   "execution_count": null,
   "metadata": {},
   "outputs": [],
   "source": [
    "ycol='R200'"
   ]
  },
  {
   "cell_type": "code",
   "execution_count": null,
   "metadata": {},
   "outputs": [],
   "source": [
    "fig, axs = plt.subplots(3, 1, sharey='col', figsize=(10,14))\n",
    "fig.subplots_adjust(hspace=0.4,wspace=0.4)\n",
    "\n",
    "vc.plot_residual(run,'redshift',ycol,ax=axs[0],xlog=False,color='r',points=False)\n",
    "# vc.plot_residual(run2,'redshift',ycol,ax=axs[0],xlog=False,color='b',points=False,shift=0.01)\n",
    "vc.plot_residual(run,'M200_true',ycol,ax=axs[1],xlog=True,color='r',points=False,units=r'  [$M_{\\odot}\\, h^{-1}$]')\n",
    "vc.plot_residual(run,'Ngals_true',ycol,ax=axs[2],xlog=True,color='r',points=False)"
   ]
  },
  {
   "cell_type": "code",
   "execution_count": null,
   "metadata": {},
   "outputs": [],
   "source": []
  },
  {
   "cell_type": "code",
   "execution_count": null,
   "metadata": {},
   "outputs": [],
   "source": []
  },
  {
   "cell_type": "code",
   "execution_count": null,
   "metadata": {},
   "outputs": [],
   "source": []
  },
  {
   "cell_type": "code",
   "execution_count": 4,
   "metadata": {},
   "outputs": [],
   "source": [
    "import sys\n",
    "sys.path.append(\"/home/s1/jesteves/git/ccopa/python/\")\n",
    "\n",
    "from main import copacabana\n",
    "\n",
    "class viewClusters:\n",
    "    def __init__(self):\n",
    "        '/home/s1/jesteves/perl5/bin'\n",
    "        cfg = '/home/s1/jesteves/git/ccopa/config_files/config_buzzard_v2.yaml'\n",
    "        self.copa = copacabana(cfg,dataset='buzzard_v2')\n",
    "\n",
    "        self.models  = defaultdict(dict)\n",
    "        self.metrics = defaultdict(dict)\n",
    "\n",
    "        self.predictors = ['Ngals','MU','R200']\n",
    "        self.regressors = ['Ngals_true','MU_TRUE','R200_true']\n",
    "        self.aux_vars   = ['Ngals_true','MU_TRUE','R200_true','redshift','M200_true']\n",
    "        \n",
    "        self.npredictors = len(self.predictors)\n",
    "        self.nauxialiars = len(self.aux_vars)\n",
    "        \n",
    "        self.metric_funcs = {\"bias\": bias_log_res,\n",
    "                             \"scatter_stdev\": fractional_error_stdev,\n",
    "                             \"scatter_percentile\": fractional_error_percentile,\n",
    "                             \"scatter_nmad\": get_sigmaNMAD,\n",
    "                             \"outlier_frac\": get_outlier_frac}\n",
    "        pass\n",
    "\n",
    "    def load_data(self,run_name):\n",
    "        cat = self.copa.load_copa_out('cluster',run_name)\n",
    "        self.df  = cat.to_pandas()\n",
    "        \n",
    "        self.models[run_name]['predictors'] = np.array(cat[self.predictors])\n",
    "        self.models[run_name]['regressors'] = np.array(cat[self.regressors])\n",
    "        self.models[run_name]['aux_vars']   = np.array(cat[self.aux_vars])\n",
    "        self.compute_residuals(run_name)\n",
    "    \n",
    "    def compute_resiudal_all(self):\n",
    "        runs = self.models.keys()\n",
    "        for run_name in runs:\n",
    "            self.compute_residuals(run_name)\n",
    "            \n",
    "    def compute_residuals(self,run_name):\n",
    "        self.models[run_name]['residual']     = np.full_like(self.models[run_name]['predictors'],-99.)\n",
    "        self.models[run_name]['log_residual'] = np.full_like(self.models[run_name]['predictors'],-99.)\n",
    "\n",
    "        for colx,coly in zip(self.regressors,self.predictors):\n",
    "            x = self.models[run_name]['regressors'][colx]\n",
    "            y = self.models[run_name]['predictors'][coly]\n",
    "            res, log_res = get_frac_residual(x,y)\n",
    "            self.models[run_name]['residual'][coly] = res\n",
    "            self.models[run_name]['log_residual'][coly] = log_res\n",
    "\n",
    "    def make_bins(self, ngals_bins, mu_star_bins, r200_bins, zcls_bins, mass_bins):\n",
    "        mybins             = [ngals_bins, mu_star_bins, r200_bins, zcls_bins, mass_bins]\n",
    "        self.metrics['bins']= dict()\n",
    "        for jj,xbin in zip(self.aux_vars,mybins):\n",
    "            self.metrics['bins'][jj]  = xbin\n",
    "            self.metrics['nbins'][jj] = xbin.size - 1\n",
    "        \n",
    "        runs = list(self.models.keys())\n",
    "        for run_name in runs:\n",
    "            labels,values = self._make_bins(mybins,run_name)\n",
    "            self.models[run_name]['bins_idx'] = labels\n",
    "            self.models[run_name]['bins_val'] = values\n",
    "        \n",
    "    def _make_bins(self,bins,run_name):\n",
    "        labels = np.full_like(self.models[run_name]['aux_vars'],-99.)\n",
    "        values = np.full_like(self.models[run_name]['aux_vars'],-99.)\n",
    "        for xbin,col in zip(bins,self.aux_vars):\n",
    "            x = self.models[run_name]['aux_vars'][col]\n",
    "            keys,xbins = get_bins(x,xbin)\n",
    "            labels[col]= keys\n",
    "            values[col]= xbins\n",
    "        return labels,values\n",
    "\n",
    "    ### compute metrics\n",
    "    def compute_bin_statstics(self,run_name):\n",
    "        ## out: dict('xbins','xmean','nobjs')\n",
    "        out = defaultdict(dict)\n",
    "        self.metrics[run_name] = out\n",
    "        for jj in self.aux_vars:\n",
    "            id_bins = self.models[run_name]['bins_idx'][jj].astype(np.int)    \n",
    "            xs_vals = self.models[run_name]['aux_vars'][jj]\n",
    "            ys_true = self.models[run_name]['predictors']\n",
    "            res     = self.models[run_name]['residual']\n",
    "                \n",
    "            nbins    = self.metrics['nbins'][jj]\n",
    "            xbins    = self.metrics['bins'][jj]\n",
    "            \n",
    "            indices  = np.arange(nbins,dtype=np.int)\n",
    "            xmean    = get_binned_mean(xs_vals,xs_vals,xbins)#0.5*(xbins[1:]+xbins[:-1])\n",
    "            nobjs    = np.histogram(xs_vals,bins=xbins)[0]\n",
    "            \n",
    "            ymean       = np.full_like(ys_true,np.nan)[:nbins]\n",
    "            resmean     = ymean.copy()\n",
    "            \n",
    "            for ii in self.predictors:\n",
    "                ymean[ii]     = get_binned_mean(xs_vals,ys_true[ii],xbins)\n",
    "                resmean[ii]   = get_binned_mean(xs_vals,res[ii],xbins)\n",
    "                \n",
    "            mydict   = {'bins':indices,'xbins':xbins,'xmean':xmean,'ymean':ymean,'res_mean':resmean,\n",
    "                        'nobjs':nobjs}            \n",
    "            self.metrics[run_name][jj] = mydict\n",
    "    \n",
    "    def eval_metrics(self,run_name,metric):\n",
    "        ys_predict = self.models[run_name]['predictors']\n",
    "        ys_true    = self.models[run_name]['regressors']\n",
    "        \n",
    "        dtypes      = [(col,'<f8') for col in self.predictors]\n",
    "        scores      = np.full((1,),-99.,dtype=dtypes)\n",
    "        for ii,kk in zip(self.predictors,self.regressors):\n",
    "            scores[ii]  = self.metric_funcs[metric](ys_true[kk],ys_predict[ii])\n",
    "        self.metrics[run_name][metric] = scores\n",
    "    \n",
    "    def eval_all_metrics(self,run_name,binned=False):\n",
    "        ### func can be: eval_metrics_bin, eval_metrics\n",
    "        metrics= self.metric_funcs.keys()\n",
    "        if not binned:\n",
    "            for metric in metrics:\n",
    "                print(metric)\n",
    "                self.eval_metrics(run_name, metric)\n",
    "        else:\n",
    "            for metric in metrics: \n",
    "                self.eval_metrics_bin(run_name, metric)\n",
    "\n",
    "    def eval_metrics_bin(self, run_name, metric):\n",
    "        #error_message = f\"{run_name} not yet trained\"\n",
    "        #assert run_name in self.models, error_message\n",
    "\n",
    "        ys_predict = self.models[run_name]['predictors']\n",
    "        ys_true    = self.models[run_name]['regressors']\n",
    "        xs_vals    = self.models[run_name]['aux_vars']\n",
    "        \n",
    "        for jj in self.aux_vars:\n",
    "            xbins   = self.metrics[run_name][jj]['xbins']\n",
    "            dtypes      = [(col,'<f8') for col in self.predictors]\n",
    "            scores      = np.full_like(xbins[1:],-99.,dtype=dtypes)\n",
    "            for ii,kk in zip(self.predictors,self.regressors):\n",
    "                scores[ii]  = self.metrics_bin(metric, ys_true[kk],ys_predict[ii], xs_vals[jj], xbins)\n",
    "            self.metrics[run_name][jj][metric] = scores\n",
    "\n",
    "    def metrics_bin(self,metric,ytrue,ypred,xvar,xbins):\n",
    "        error_message = ('{} not recognized! options are: {}'\n",
    "                         ''.format(metric, self.metric_funcs.keys()))\n",
    "        assert metric in self.metric_funcs, error_message\n",
    "        \n",
    "        keys     = get_bins_group_indices(xvar,xbins)\n",
    "        ytrue_bin= group_by(ytrue,keys)#get_bins_group(x,ytrue,xbins)\n",
    "        ypred_bin= group_by(ypred,keys)#get_bins_group(x,ypred,xbins)#[ypred[idx] for idx in keys]\n",
    "        \n",
    "        nbins    = len(xbins)-1\n",
    "        scores   = np.full_like(xbins[:-1],-99.,dtype=np.float64)\n",
    "        \n",
    "        for i,yt,yp in zip(range(nbins),ytrue_bin,ypred_bin):\n",
    "            scores[i] = self.metric_funcs[metric](yt,yp)\n",
    "        return scores\n",
    "    \n",
    "    def show_metrics_table_all(self,run):\n",
    "        metrics= self.metric_funcs.keys()\n",
    "        mydict = dict.fromkeys(metrics)\n",
    "        for ycol in self.predictors:\n",
    "            for col in metrics:\n",
    "                mydict[col] = np.append(mydict[col],self.metrics[run][col][ycol])\n",
    "        df = pd.DataFrame(mydict,index=[None]+self.predictors)[1:]\n",
    "        #df.set_index('index')\n",
    "        return df\n",
    "\n",
    "    def get_residual_metrics(self,run,ycol,log_residual=False):\n",
    "        bias = self.metrics[run]['bias'][ycol]+1\n",
    "        sigma= self.metrics[run]['scatter_percentile'][ycol]\n",
    "        sigma_nmad = self.metrics[run]['scatter_nmad'][ycol]\n",
    "        of   = self.metrics[run]['outlier_frac'][ycol]\n",
    "\n",
    "        if log_residual:\n",
    "            bias,sigma = np.log10(bias), np.log10(sigma+1)\n",
    "            sigma_nmad = np.log10(sigma_nmad+1)\n",
    "        return bias,sigma,sigma_nmad,of\n",
    "    \n",
    "    def get_residual_metrics_binned(self,run,xcol,ycol,log_residual=False,metric='scatter_nmad'):\n",
    "        xbins = self.metrics[run][xcol]['xbins']\n",
    "        xmean = self.metrics[run][xcol]['xmean']\n",
    "        bias  = self.metrics[run][xcol]['bias'][ycol]+1\n",
    "        sigma = self.metrics[run][xcol][metric][ycol]\n",
    "        of    = self.metrics[run][xcol]['outlier_frac'][ycol]\n",
    "        \n",
    "        lower  = xmean-xbins[:-1]\n",
    "        upper  = xbins[1:]-xmean\n",
    "        return xmean,bias,sigma,of,lower,upper\n",
    "        \n",
    "    def plot_residual_distribution(self,run,ycol,axs=None,xlims=None,log_residual=False):\n",
    "        if axs is None: axs=plt.axes()\n",
    "        residual    = filter_nan_inf(self.models[run]['residual'][ycol])\n",
    "        log_res     = filter_nan_inf(self.models[run]['log_residual'][ycol])\n",
    "        mask        = get_oulier_mask(log_res)\n",
    "\n",
    "        xlabel   = r'$%s/%s_{true}$'%(ycol,ycol)\n",
    "        units    = '\\n'\n",
    "        if log_residual:\n",
    "            residual = log_res\n",
    "            xlabel   = r'Log(%s)'%xlabel\n",
    "            units    = 'dex\\n'\n",
    "\n",
    "        bias,sigma,sigma_nmad,of = self.get_residual_metrics(run,ycol,log_residual=log_residual)\n",
    "        xmin,xmax   = np.nanpercentile(residual[residual>-99],[0,100])\n",
    "        xlo,xup     = bias-2*sigma_nmad, bias+2*sigma_nmad\n",
    "\n",
    "        if xlims is not None:\n",
    "            xmin,xmax = xlims\n",
    "\n",
    "        l1 = r'bias  : %.2f %s$\\sigma_{NMAD}$: %.2f %s'%(bias,units,sigma_nmad,units)\n",
    "        l2 = r'outlier: %.2f'%(of)\n",
    "\n",
    "        xbins = np.linspace(xmin,xmax,50)\n",
    "        _ = axs.hist(residual,bins=xbins,label=l1)\n",
    "        _ = axs.hist(residual[mask],bins=xbins,label=l2)\n",
    "        axs.axvline(bias,color='k',ls='--')\n",
    "        axs.axvline(xup,color='r',ls='--')\n",
    "        axs.axvline(xlo,color='r',ls='--')\n",
    "\n",
    "        #plt.yscale('log')\n",
    "        axs.set_xlabel(xlabel,fontsize=20)\n",
    "        axs.legend(fontsize=12)\n",
    "        axs.set_title(run,fontsize=14)\n",
    "        \n",
    "    def get_binned_variables(self,xcol,ycol,run,metric='scatter_nmad'):\n",
    "        ## get variables\n",
    "        x = self.models[run]['regressors'][xcol]\n",
    "        y = self.models[run]['predictors'][ycol]\n",
    "        \n",
    "        xbins = self.metrics[run][xcol]['xbins']\n",
    "        xb_err= np.diff(xbins)/2.\n",
    "        yb_err= self.metrics[run][xcol][metric][ycol]\n",
    "        \n",
    "        xb= 0.5*(xbins[1:]+xbins[:-1])#self.metrics[run][xcol]['xmean']\n",
    "        yb= self.metrics[run][xcol]['ymean'][ycol]\n",
    "            \n",
    "        xmin,xmax = 0.8*(np.min(xbins)-2*yb_err[0]), 1.2*(np.max(xbins))\n",
    "        xlims = (xmin,xmax)\n",
    "        \n",
    "        mask  = np.logical_not(np.isnan(x)|np.isnan(y))\n",
    "        x = x[mask]\n",
    "        y = y[mask]\n",
    "        return x,y,xb,yb,xb_err,yb_err*xb,xlims\n",
    "        \n",
    "    def plot_scaling_relation(self,xcol,ycol,run,axs=None,xlims=None,points=False,metric='scatter_nmad',fit=False,title='',log_scale=True):\n",
    "        ## get variables\n",
    "        x,y,xb,yb,xb_err,yb_err,xlims0 = self.get_binned_variables(xcol,ycol,run,metric=metric)\n",
    "        if xlims is None: xlims=xlims0\n",
    "        _plot_scaling_relation(x,y,xb,yb,xb_err,yb_err,xlims,xcol,ycol,points=points,axs=axs,fit=fit,title=title,log_scale=log_scale)\n",
    "    \n",
    "    def plot_residual(self,run,xcol,ycol,ax=None,xlog=False,color='r',points=True,units='',shift=0.):\n",
    "        if ax is None: ax = plt.axes()\n",
    "        xmean,ymean,sigma,of,lower,upper = self.get_residual_metrics_binned(run,xcol,ycol,log_residual=False)\n",
    "        ymin,ymax = np.mean(ymean-3*sigma),np.mean(ymean+3*sigma)\n",
    "        xmin,xmax = 0.9*np.min(xmean),1.1*np.max(xmean)\n",
    "        ylabel = r'$%s/%s_{true}$'%(ycol,ycol)\n",
    "\n",
    "        if points:\n",
    "            x  = self.models[run]['aux_vars'][xcol]\n",
    "            res= self.models[run]['residual'][ycol]\n",
    "            ax.scatter(x,res,color=color,alpha=0.3,s=40)\n",
    "\n",
    "        ax.plot([xmin,xmax],[1.,1.],'k--')\n",
    "        ax.errorbar(shift+xmean,ymean,xerr=[lower,upper],yerr=sigma,color=color,fmt='o',label=run)\n",
    "        ax.set_ylim(ymin,ymax)\n",
    "        ax.set_xlabel(xcol+units)\n",
    "        ax.set_ylabel(ylabel)\n",
    "        ax.legend()\n",
    "        if xlog:\n",
    "            ax.set_xscale('log')\n",
    "\n",
    "def group_by(x,keys):\n",
    "    return [x[idx] for idx in keys]\n",
    "\n",
    "def get_bins_group_indices(x,bins):\n",
    "    idx  = np.argsort(x)\n",
    "    ## to avoid the boundary condition of the digitize function as xlow <= x < xup\n",
    "    mybins = bins.copy()\n",
    "    mybins[-1] += 0.1\n",
    "    inds = np.digitize(x,mybins)\n",
    "    return np.split(idx, np.unique(inds[idx], return_index=True)[1][1:])\n",
    "    \n",
    "def get_bins_group(x,y,bins):\n",
    "    idx  = np.argsort(x)\n",
    "    ## to avoid the boundary condition of the digitize function as xlow <= x < xup\n",
    "    mybins = bins.copy()\n",
    "    mybins[-1] += 0.1\n",
    "    inds = np.digitize(x,mybins)\n",
    "    return np.split(y[idx], np.unique(inds[idx], return_index=True)[1][1:])\n",
    "    \n",
    "def get_binned_mean(x,y,bins):\n",
    "    y     = filter_nan_inf(y)\n",
    "    y     = np.where(y==-99,0.,y)\n",
    "    x     = filter_nan_inf(x)\n",
    "    sum_y = np.histogram(x, bins, weights=y)[0]\n",
    "    nobjs = np.histogram(x, bins)[0]\n",
    "    return sum_y/nobjs\n",
    "    \n",
    "def get_bins(variable,xedges):\n",
    "    nbins   = len(xedges)-1\n",
    "    indices = np.full_like(variable,-99,dtype=np.int)\n",
    "    xbins   = np.full_like(variable,-99,dtype=np.float)\n",
    "\n",
    "    means = (xedges[1:]+xedges[:-1])/2.\n",
    "    for i in range(nbins):\n",
    "        idx = np.where((variable >= xedges[i]) & (variable <= xedges[i + 1]))[0]\n",
    "        xbins[idx]   = means[i]\n",
    "        indices[idx] = i\n",
    "    return indices, xbins\n",
    "\n",
    "def get_log(x):\n",
    "    xlog = np.log10(x)\n",
    "    xlog[np.isinf(xlog)] = -99\n",
    "    xlog[np.isnan(xlog)] = -99\n",
    "    return xlog\n",
    "\n",
    "def get_frac_residual(x,y):\n",
    "    res = y/(x+1e-6)\n",
    "    log_res = get_log(res)\n",
    "    return res,log_res\n",
    "\n",
    "def mad(data, axis=None):\n",
    "    return np.median(np.abs(data - np.median(data)))\n",
    "\n",
    "def median_absolute_dev(x,y):\n",
    "    res, log_res = get_frac_residual(x,y)\n",
    "    return 10**mad(log_res[log_res>-99])\n",
    "\n",
    "def bias_log_res(x,y):\n",
    "    res, log_res = get_frac_residual(x,y)\n",
    "    mask = log_res>-99.\n",
    "    return 10**np.median(log_res[mask])-1.\n",
    "\n",
    "def fractional_error_stdev(x, y):\n",
    "    res, log_res = get_frac_residual(x,y)\n",
    "    score = np.std(log_res[log_res>-99])\n",
    "    return 10**score-1.\n",
    "\n",
    "def fractional_error_percentile(x, y):\n",
    "    res, log_res = get_frac_residual(x,y)\n",
    "    mask = log_res>-99.\n",
    "    p16 = np.percentile(log_res[mask], 16)\n",
    "    p84 = np.percentile(log_res[mask], 84)\n",
    "    score = 0.5*(p84-p16)\n",
    "    return 10**score-1.\n",
    "\n",
    "def get_sigmaNMAD(x,y):\n",
    "    sigmaNMAD = 1.4*(median_absolute_dev(x,y)-1.)\n",
    "    return sigmaNMAD\n",
    "\n",
    "def get_outlier_frac(x,y):\n",
    "    res, log_res = get_frac_residual(x,y)\n",
    "    sigmaNMAD = 1.4*mad(log_res[log_res>-99])\n",
    "    bias      = np.nanmedian(log_res[log_res>-99])\n",
    "    out       = np.where(np.abs((log_res-bias)>=3.*sigmaNMAD))[0]\n",
    "    frac      = 1.*out.size/x.size\n",
    "    return frac\n",
    "\n",
    "def get_oulier_mask(log_res):\n",
    "    sigmaNMAD = 1.4*mad(log_res[log_res>-99])\n",
    "    bias      = np.nanmedian(log_res[log_res>-99])\n",
    "    out       = np.where(np.abs((log_res-bias)>=3.*sigmaNMAD))[0]\n",
    "    return out\n",
    "    \n",
    "def r2_score(x,y):\n",
    "    \"\"\" returns non-aggregate version of r2 score.\n",
    "\n",
    "    based on r2_score() function from sklearn (http://sklearn.org)\n",
    "    \"\"\"\n",
    "    res, log_res = get_frac_residual(x,y)\n",
    "    mask = log_res>-99.\n",
    "    return sklearn.metrics.r2_score(x[mask],y[mask]) \n",
    "\n",
    "def filter_nan_inf(x):\n",
    "    mask = np.isinf(x)|np.isnan(x)\n",
    "    x[mask] = -99.\n",
    "    return x"
   ]
  },
  {
   "cell_type": "code",
   "execution_count": 5,
   "metadata": {},
   "outputs": [],
   "source": [
    "def _plot_scaling_relation(x,y,xb,yb,xb_err,yb_err,xlims,xcol,ycol,color='b',points=False,axs=None,fit=False,title='',log_scale=True):\n",
    "    if axs is None: axs = plt.axes()\n",
    "    \n",
    "    ## linear fit\n",
    "    linreg=lin_reg(x,y)\n",
    "    \n",
    "    idx = np.argsort(x)\n",
    "    xt,yh = x[idx],linreg['Yhat'][idx]\n",
    "\n",
    "    b0 = round(linreg['b0'],3)\n",
    "    b1 = round(linreg['b1'],3)\n",
    "    cb_u, cb_l = linreg['cb_u'], linreg['cb_l']\n",
    "    \n",
    "    ## Plot\n",
    "    if fit:\n",
    "        axs.plot(xt,yh, color=\"r\",label='y=%.2f+%.2fx'%(b0,b1))\n",
    "        axs.fill_between(xt, cb_l, cb_u, color=\"gray\", alpha=0.25, label='_nolabel_')\n",
    "        axs.plot(xt,cb_l, color=\"r\", label='_nolabel_')\n",
    "        axs.plot(xt,cb_u, color=\"r\", label='_nolabel_')\n",
    "\n",
    "    if points:\n",
    "        sc = axs.scatter(x,y,s=75, alpha=0.25, color='gray')\n",
    "\n",
    "    axs.errorbar(xb,yb,xerr=xb_err,yerr=yb_err,color=color,linewidth=2.,fmt='o')\n",
    "    axs.plot(np.linspace(xlims[0],xlims[1]),np.linspace(xlims[0],xlims[1]),linestyle='--',color='k')\n",
    "    \n",
    "    if log_scale:\n",
    "        xlims = np.where(xlims<1.,2.,xlims)\n",
    "        axs.set_xscale('log')\n",
    "        axs.set_yscale('log')\n",
    "\n",
    "    axs.set_ylim(xlims)\n",
    "    axs.set_xlim(xlims)\n",
    "    \n",
    "    axs.set_xlabel(xcol,fontsize=22)\n",
    "    axs.set_ylabel(ycol,fontsize=22)\n",
    "    #axs.legend(fontsize=14)\n",
    "    \n",
    "    #axs.set_title(run,fontsize=22)\n",
    "    #fig.tight_layout()\n",
    "def lin_reg(X,Y):\n",
    "    barX=np.mean(X); barY=np.mean(Y)\n",
    "    XminusbarX=X-barX; YminusbarY=Y-barY\n",
    "    b1=sum(XminusbarX*YminusbarY)/sum(XminusbarX**2)\n",
    "    b0=barY-b1*barX\n",
    "    Yhat=b0+b1*X\n",
    "    e_i=Y-Yhat\n",
    "    sse=np.sum(e_i**2)\n",
    "    ssr=np.sum((Yhat-barY )**2)\n",
    "    n=len(X)\n",
    "    MSE=sse/np.float(n-2)\n",
    "\n",
    "    s_of_yh_hat=np.sqrt(MSE*(1.0/n+(X-barX)**2/sum(XminusbarX**2)))\n",
    "    W=np.sqrt(2.0*st.f.ppf(0.95,2,n-2))\n",
    "\n",
    "    cb_upper=Yhat+W*s_of_yh_hat\n",
    "    cb_lower=Yhat-W*s_of_yh_hat\n",
    "    idx=np.argsort(X)\n",
    "\n",
    "    return {'Yhat':Yhat,'b0':b0,'b1':b1,'cb_u':cb_upper[idx], 'cb_l': cb_lower[idx]}\n",
    "\n",
    "    "
   ]
  },
  {
   "cell_type": "code",
   "execution_count": null,
   "metadata": {},
   "outputs": [],
   "source": []
  },
  {
   "cell_type": "code",
   "execution_count": null,
   "metadata": {},
   "outputs": [],
   "source": []
  }
 ],
 "metadata": {
  "kernelspec": {
   "display_name": "Python 2",
   "language": "python",
   "name": "python2"
  },
  "language_info": {
   "codemirror_mode": {
    "name": "ipython",
    "version": 2
   },
   "file_extension": ".py",
   "mimetype": "text/x-python",
   "name": "python",
   "nbconvert_exporter": "python",
   "pygments_lexer": "ipython2",
   "version": "2.7.15"
  }
 },
 "nbformat": 4,
 "nbformat_minor": 2
}
